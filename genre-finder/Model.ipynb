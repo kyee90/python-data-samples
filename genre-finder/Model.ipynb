{
 "cells": [
  {
   "cell_type": "markdown",
   "metadata": {},
   "source": [
    "##   Gender Finder Model\n",
    "### This is a model for a genre finder given a number of quantitative values relating to a song file's musical attributes\n",
    "### Used for a previous kaggle competition"
   ]
  },
  {
   "cell_type": "code",
   "execution_count": 5,
   "metadata": {},
   "outputs": [],
   "source": [
    "import numpy as np\n",
    "import pandas as pd\n",
    "import sklearn as skl\n",
    "import os\n",
    "from feature_engine.creation import CyclicalFeatures\n",
    "from sklearn.model_selection import train_test_split as tts\n",
    "#   loading dataframe\n",
    "path = os.getcwd()\n",
    "os.chdir(path+'/Data/training-data')\n",
    "csv_files = [f for f in os.listdir() if f.endswith('.csv')]\n",
    "dfs = []\n",
    "for csv in csv_files:\n",
    "    df = pd.read_csv(csv)\n",
    "    dfs.append(df)\n",
    "df = pd.concat(dfs, ignore_index=True)\n",
    "os.chdir(path)"
   ]
  },
  {
   "cell_type": "code",
   "execution_count": 6,
   "metadata": {},
   "outputs": [],
   "source": [
    "##   data cleaning\n",
    "#   remove unneeded features\n",
    "remove_cols = ['artist_name','track_name', 'track_id']\n",
    "df = df.drop(columns=remove_cols)\n",
    "\n",
    "#   fix tempo\n",
    "df['tempo'] = df['tempo'].apply(pd.to_numeric, errors='coerce')\n",
    "df = df.dropna()\n",
    "\n",
    "# fix time_signature\n",
    "df.insert(len(df.columns),'time_0/4',0.0)\n",
    "df['time_signature'] = df['time_signature'].apply(lambda x: x.replace('-Apr', '/4'))\n",
    "time_encoded = pd.get_dummies(df['time_signature'], prefix='time', dtype=float)\n",
    "df = pd.concat([df, time_encoded], axis=1)\n",
    "df = df.drop(columns='time_signature')\n",
    "\n",
    "#   combine 'key' and 'mode'\n",
    "df['key'] = df['key'].astype(str)+' '+df['mode']\n",
    "df = df.drop(columns='mode')\n",
    "\n",
    "#   cyclical encoding of key\n",
    "keys = ['C# Major', 'A# Minor', 'F# Major', 'D# Minor', 'B Major', 'G# Minor', 'E Major', 'C# Minor', 'A Major', 'F# Minor', 'D Major', 'B Minor', 'G Major', 'E Minor',\n",
    "            'C Major', 'B# Major', 'A Minor', 'F Major', 'E# Major',  'D Minor', 'A# Major',  'G Minor', 'B# Minor', 'D# Major', 'C Minor', 'E# Minor', 'F Minor', 'G# Major']\n",
    "weights = [7, 7, 6, 6, 5, 5, 4, 4, 3, 3, 2, 2, 1, 1, 0, 0, 0, 11, 11, 11, 10, 10, 9, 9, 9, 8, 8, 8]\n",
    "df['key'].replace(keys, weights, inplace=True)\n",
    "cyc = CyclicalFeatures(variables=None, drop_original=True)\n",
    "x = cyc.fit_transform(pd.DataFrame(df['key']))\n",
    "df = pd.concat([df,x], axis=1)\n",
    "df = df.drop(columns='key')\n",
    "\n",
    "#   split into features/labels\n",
    "labels = df['genre']\n",
    "features = df.drop(columns='genre')\n",
    "\n",
    "\n",
    "#   split data into training and test sets\n",
    "train_x, test_x, train_y, test_y = tts(features, labels, test_size=0.2)"
   ]
  },
  {
   "cell_type": "code",
   "execution_count": 7,
   "metadata": {},
   "outputs": [],
   "source": [
    "from sklearn.impute import SimpleImputer\n",
    "\n",
    "imp = SimpleImputer(missing_values=-1, strategy='median')\n",
    "dura_imp = imp.fit_transform(pd.DataFrame(train_x['duration_ms']))\n",
    "train_x['duration_ms'] = dura_imp\n",
    "\n",
    "dura_imp_test = imp.fit_transform(pd.DataFrame(test_x['duration_ms']))\n",
    "test_x['duration_ms'] = dura_imp_test"
   ]
  },
  {
   "cell_type": "code",
   "execution_count": 9,
   "metadata": {},
   "outputs": [],
   "source": [
    "from sklearn import ensemble as ens\n",
    "from sklearn import preprocessing\n",
    "from sklearn.pipeline import Pipeline\n",
    "from sklearn.neural_network import MLPClassifier\n",
    "from xgboost import XGBClassifier\n",
    "\n",
    "#   build and train model\n",
    "feats = train_x.iloc[:,1:]\n",
    "#   encode labels\n",
    "enc = preprocessing.LabelEncoder()\n",
    "enc.fit(train_y.unique())\n",
    "newlabels = enc.transform(train_y)\n",
    "\n",
    "#scaled = preprocessing.RobustScaler().fit_transform(feats)\n",
    "\n",
    "#   build pipeline\n",
    "xgb = XGBClassifier(eta=0.1, max_depth=9, min_child_weight=10, alpha=0.1)\n",
    "model = xgb.fit(feats, newlabels)"
   ]
  },
  {
   "cell_type": "code",
   "execution_count": null,
   "metadata": {},
   "outputs": [],
   "source": [
    "#   test model\n",
    "testfeats = test_x.iloc[:,1:]\n",
    "enc.fit(test_y)\n",
    "testlabels = enc.transform(test_y)\n",
    "score = model.score(testfeats, testlabels)\n",
    "score"
   ]
  },
  {
   "cell_type": "code",
   "execution_count": 16,
   "metadata": {},
   "outputs": [],
   "source": [
    "#   kaggle  predictor\n",
    "path = os.getcwd()\n",
    "os.chdir(path+'/Data/test-data')\n",
    "csv_files = [f for f in os.listdir() if f.endswith('.csv')]\n",
    "dfs = []\n",
    "for csv in csv_files:\n",
    "    df = pd.read_csv(csv)\n",
    "    dfs.append(df)\n",
    "kag_data = pd.concat(dfs, ignore_index=True)\n",
    "os.chdir(path)"
   ]
  },
  {
   "cell_type": "code",
   "execution_count": 17,
   "metadata": {},
   "outputs": [],
   "source": [
    "##   data cleaning\n",
    "#   remove unneeded features\n",
    "remove_cols = ['artist_name', 'track_name', 'track_id',]\n",
    "kag_clean = kag_data.drop(columns=remove_cols)\n",
    "\n",
    "#   fix time_signature\n",
    "kag_clean['time_signature'] = kag_clean['time_signature'].apply(lambda x: x.replace('-Apr', '/4'))\n",
    "\n",
    "#   combine 'key' and 'mode'\n",
    "kag_clean['key'] = kag_clean['key'].astype(str)+' '+kag_clean['mode']\n",
    "kag_clean = kag_clean.drop(columns='mode')\n",
    "\n",
    "#   convert tempo to float\n",
    "kag_clean['tempo'] = kag_clean['tempo'].apply(pd.to_numeric, errors='coerce')\n",
    "\n",
    "#   onehot encoding time signature\n",
    "time_encoded = pd.get_dummies(kag_clean['time_signature'], prefix='time', dtype=float)\n",
    "kag_clean = pd.concat([kag_clean, time_encoded], axis=1)\n",
    "kag_clean = kag_clean.drop(columns='time_signature')\n",
    "\n",
    "\n",
    "#   cyclical encoding of key\n",
    "keys = ['C# Major', 'A# Minor', 'F# Major', 'D# Minor', 'B Major', 'G# Minor', 'E Major', 'C# Minor', 'A Major', 'F# Minor', 'D Major', 'B Minor', 'G Major', 'E Minor',\n",
    "            'C Major', 'B# Major', 'A Minor', 'F Major', 'E# Major',  'D Minor', 'A# Major',  'G Minor', 'B# Minor', 'D# Major', 'C Minor', 'E# Minor', 'F Minor', 'G# Major']\n",
    "weights = [7, 7, 6, 6, 5, 5, 4, 4, 3, 3, 2, 2, 1, 1, 0, 0, 0, 11, 11, 11, 10, 10, 9, 9, 9, 8, 8, 8]\n",
    "kag_clean['key'].replace(keys, weights, inplace=True)\n",
    "kag_clean['key'].replace(keys, weights, inplace=True)\n",
    "cyc = CyclicalFeatures(variables=None, drop_original=True)\n",
    "x = cyc.fit_transform(pd.DataFrame(kag_clean['key']))\n",
    "kag_clean = pd.concat([kag_clean,x], axis=1)\n",
    "kag_clean = kag_clean.drop(columns='key')"
   ]
  },
  {
   "cell_type": "code",
   "execution_count": 18,
   "metadata": {},
   "outputs": [],
   "source": [
    "from sklearn.impute import KNNImputer\n",
    "imputer2 = SimpleImputer(missing_values=-1.0, strategy='median')\n",
    "imputer3 = KNNImputer(n_neighbors=3)\n",
    "temp = pd.DataFrame(kag_clean['tempo'])\n",
    "t_impute = imputer3.fit_transform(temp)\n",
    "kag_clean['tempo'] = t_impute\n",
    "dura = pd.DataFrame(kag_clean['duration_ms'])\n",
    "impute = imputer2.fit_transform(dura)\n",
    "kag_clean['duration_ms'] = impute"
   ]
  },
  {
   "cell_type": "code",
   "execution_count": 19,
   "metadata": {},
   "outputs": [],
   "source": [
    "#   make predictions\n",
    "inst = pd.DataFrame(kag_clean.iloc[:,0], columns=['instance_id'])\n",
    "kag_feat = kag_clean.iloc[:,1:]\n",
    "enc = preprocessing.LabelEncoder()\n",
    "enc.fit(train_y.unique())\n",
    "kag_scale = preprocessing.RobustScaler().fit_transform(kag_feat)\n",
    "pred_labels = model.predict(kag_feat)\n",
    "strlabels = enc.inverse_transform(pred_labels)\n",
    "kag_labels = pd.DataFrame(strlabels, columns=['genre'])"
   ]
  },
  {
   "cell_type": "code",
   "execution_count": 20,
   "metadata": {},
   "outputs": [],
   "source": [
    "inst['genre'] = strlabels\n",
    "inst\n",
    "inst.to_csv(\"kaggle-final.csv\",index=False)"
   ]
  }
 ],
 "metadata": {
  "kernelspec": {
   "display_name": "base",
   "language": "python",
   "name": "python3"
  },
  "language_info": {
   "codemirror_mode": {
    "name": "ipython",
    "version": 3
   },
   "file_extension": ".py",
   "mimetype": "text/x-python",
   "name": "python",
   "nbconvert_exporter": "python",
   "pygments_lexer": "ipython3",
   "version": "3.10.9"
  },
  "orig_nbformat": 4
 },
 "nbformat": 4,
 "nbformat_minor": 2
}
