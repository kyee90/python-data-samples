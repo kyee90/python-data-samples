{
 "cells": [
  {
   "cell_type": "markdown",
   "metadata": {},
   "source": [
    "## Sample 1 of Exploratory Data Analysis\n",
    "### EDA of a dataset of house prices and various attributes"
   ]
  },
  {
   "cell_type": "code",
   "execution_count": null,
   "metadata": {},
   "outputs": [],
   "source": [
    "import numpy as np\n",
    "import pandas as pd\n",
    "import sklearn as skl\n",
    "import matplotlib.pyplot as plt\n",
    "import seaborn as sns\n",
    "import os\n",
    "\n",
    "path = os.getcwd()\n",
    "df = pd.read_csv(path+'/Data/House_Price.csv')"
   ]
  },
  {
   "cell_type": "code",
   "execution_count": null,
   "metadata": {},
   "outputs": [],
   "source": [
    "#   number of instances\n",
    "#   number of features\n",
    "#   number of categorical and numerical features\n",
    "df.info()"
   ]
  },
  {
   "cell_type": "code",
   "execution_count": null,
   "metadata": {},
   "outputs": [],
   "source": [
    "df.describe()"
   ]
  },
  {
   "cell_type": "code",
   "execution_count": null,
   "metadata": {},
   "outputs": [],
   "source": [
    "#   top 5 numerical features highly correlated with target variable \"SalePrice\" according to pearson correlation\n",
    "top_correlated = pd.Series.sort_values(df.corr(method='pearson',numeric_only=True)['SalePrice'], ascending=False)\n",
    "top5 = top_correlated[0:6]\n",
    "df[list(top5.to_dict().keys())].describe()"
   ]
  },
  {
   "cell_type": "code",
   "execution_count": null,
   "metadata": {},
   "outputs": [],
   "source": [
    "#   distribution plots for house prices\n",
    "from sklearn.preprocessing import KBinsDiscretizer\n",
    "from scipy.stats import skew, kurtosis\n",
    "\n",
    "top5list = list(top5.to_dict().keys())\n",
    "top5list\n",
    "\n",
    "for i in range(len(top5list)):\n",
    "    sk = skew(df[top5list[i]])\n",
    "    ku = kurtosis(df[top5list[i]])\n",
    "    out = 'skewness: '+str(sk)+'\\nkurtosis: '+str(ku)\n",
    "    plt.figure(i)\n",
    "    plt.title(top5list[i])\n",
    "    plt.figtext(0,0,out)\n",
    "    plt.hist(df[top5list[i]])"
   ]
  },
  {
   "cell_type": "code",
   "execution_count": null,
   "metadata": {},
   "outputs": [],
   "source": [
    "#   with discretizer\n",
    "for i in range(len(top5list)):\n",
    "    sk = skew(df[top5list[i]])\n",
    "    ku = kurtosis(df[top5list[i]])\n",
    "    out = 'skewness: '+str(sk)+'\\nkurtosis: '+str(ku)\n",
    "    plt.figure(i)\n",
    "    plt.title(top5list[i])\n",
    "    plt.figtext(0,0,out)\n",
    "    if i == 0:\n",
    "        est = KBinsDiscretizer(n_bins=8, encode='ordinal', strategy='uniform')\n",
    "        X = df['SalePrice'].array\n",
    "        X = X.reshape(-1,1)\n",
    "        est.fit(X)\n",
    "        Xt = est.transform(X)\n",
    "        plt.hist(Xt)\n",
    "    if i == 1:\n",
    "        est = KBinsDiscretizer(n_bins=10, encode='ordinal', strategy='uniform')\n",
    "        X = df['OverallQual'].array\n",
    "        X = X.reshape(-1,1)\n",
    "        est.fit(X)\n",
    "        Xt = est.transform(X)\n",
    "        plt.hist(Xt)\n",
    "    if i == 2:\n",
    "        est = KBinsDiscretizer(n_bins=7, encode='ordinal', strategy='uniform')\n",
    "        X = df['GrLivArea'].array\n",
    "        X = X.reshape(-1,1)\n",
    "        est.fit(X)\n",
    "        Xt = est.transform(X)\n",
    "        plt.hist(Xt)\n",
    "    if i == 3:\n",
    "        est = KBinsDiscretizer(n_bins=5, encode='ordinal', strategy='uniform')\n",
    "        X = df['GarageCars'].array\n",
    "        X = X.reshape(-1,1)\n",
    "        est.fit(X)\n",
    "        Xt = est.transform(X)\n",
    "        plt.hist(Xt)\n",
    "    if i == 4:\n",
    "        est = KBinsDiscretizer(n_bins=9, encode='ordinal', strategy='uniform')\n",
    "        X = df['GarageArea'].array\n",
    "        X = X.reshape(-1,1)\n",
    "        est.fit(X)\n",
    "        Xt = est.transform(X)\n",
    "        plt.hist(Xt)\n",
    "    if i == 5:\n",
    "        est = KBinsDiscretizer(n_bins=7, encode='ordinal', strategy='uniform')\n",
    "        X = df['TotalBsmtSF'].array\n",
    "        X = X.reshape(-1,1)\n",
    "        est.fit(X)\n",
    "        Xt = est.transform(X)\n",
    "        plt.hist(Xt)"
   ]
  },
  {
   "cell_type": "code",
   "execution_count": null,
   "metadata": {},
   "outputs": [],
   "source": [
    "#   check for missing values\n",
    "missing_values = df.isna().sum()\n",
    "missing_values = missing_values[missing_values != 0].sort_values(ascending=False)\n",
    "print('number of features missing values: '+str(len(missing_values)))\n",
    "for feature, value in missing_values.items():\n",
    "    missing_pct = value/1460\n",
    "    print(feature+' missing: '+str(value)+' pct: '+str(missing_pct))"
   ]
  },
  {
   "cell_type": "markdown",
   "metadata": {},
   "source": [
    "3. EDA using clustering is very useful for understanding the important characteristics of the data.\n",
    "Provide a further EDA on the dataset using Hierarchical clustering on the 5 numerical features found in 1(b)\n",
    "to answer the question — “Does the house prices vary by neighbourhood?”. Report the output dendrogram\n",
    "and any other plots and show how do they help you to answer the question."
   ]
  },
  {
   "cell_type": "code",
   "execution_count": null,
   "metadata": {},
   "outputs": [],
   "source": [
    "#   dendogram output\n",
    "from scipy.cluster.hierarchy import dendrogram\n",
    "from sklearn.cluster import AgglomerativeClustering\n",
    "from sklearn.preprocessing import MinMaxScaler\n",
    "from sklearn.preprocessing import OrdinalEncoder\n",
    "\n",
    "#   make df with top5 and neighbourhood\n",
    "X = df[top5list[1:]+['Neighborhood']]\n",
    "Y = df['Neighborhood'].array\n",
    "Y = Y.reshape(-1,1)\n",
    "enc = OrdinalEncoder()\n",
    "Y = enc.fit_transform(Y)\n",
    "\n",
    "#   encode neighbourhood labels into numbers\n",
    "X['Neighborhood'] = Y\n",
    "scaler = MinMaxScaler()\n",
    "scaler.fit(X)\n",
    "\n",
    "#   scale all values in df before agg clustering\n",
    "X = scaler.transform(X)\n",
    "\n",
    "def plot_dendrogram(model, **kwargs):\n",
    " # Create linkage matrix and then plot the dendrogram\n",
    "\n",
    "    # create the counts of samples under each node\n",
    "    counts = np.zeros(model.children_.shape[0])\n",
    "    n_samples = len(model.labels_)\n",
    "    for i, merge in enumerate(model.children_):\n",
    "        current_count = 0\n",
    "        for child_idx in merge:\n",
    "            if child_idx < n_samples:\n",
    "                current_count += 1  # leaf node\n",
    "            else:\n",
    "                current_count += counts[child_idx - n_samples]\n",
    "        counts[i] = current_count\n",
    "\n",
    "    linkage_matrix = np.column_stack(\n",
    "        [model.children_, model.distances_, counts]\n",
    "    ).astype(float)\n",
    "\n",
    "    # Plot the corresponding dendrogram\n",
    "    dendrogram(linkage_matrix, **kwargs)\n",
    "\n",
    "# setting distance_threshold=0 to ensure compute the full tree.\n",
    "agg_clusters = AgglomerativeClustering(distance_threshold=0, n_clusters=None).fit(X)\n",
    "\n",
    "plt.title(\"Hierarchical Agglomerative Clustering Dendrogram\")\n",
    "# plot the top three levels of the dendrogram\n",
    "plot_dendrogram(agg_clusters, truncate_mode=\"level\", p=2)\n",
    "plt.xlabel(\"Number of points in node (or index of point if no parenthesis).\")\n",
    "plt.show()"
   ]
  }
 ],
 "metadata": {
  "kernelspec": {
   "display_name": "my_env",
   "language": "python",
   "name": "python3"
  },
  "language_info": {
   "codemirror_mode": {
    "name": "ipython",
    "version": 3
   },
   "file_extension": ".py",
   "mimetype": "text/x-python",
   "name": "python",
   "nbconvert_exporter": "python",
   "pygments_lexer": "ipython3",
   "version": "3.10.9"
  },
  "orig_nbformat": 4
 },
 "nbformat": 4,
 "nbformat_minor": 2
}
